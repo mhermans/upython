{
 "cells": [
  {
   "cell_type": "markdown",
   "metadata": {},
   "source": [
    "# inspiration\n",
    "\n",
    "https://github.com/bablokb/pyportal-wttrin\n",
    "\n",
    "This PyPortal-application displays weather-data collected from https://wttr.in. After a preconfigured interval, the backlight is turned off to prevent burn-in. Touching the screen turns the backlight back on again.Besides the weather-data from the internet, the portal displays the local time and the temperature from the builtin-sensor.\n",
    "\n",
    "https://learn.adafruit.com/pyportal-titano-weather-station\n",
    "\n",
    "https://learn.adafruit.com/pyportal-weather-station/code-pyportal-with-circuitpython\n",
    "\n",
    "\n",
    "https://api.met.no/index.html\n",
    "\n",
    "https://api.met.no/weatherapi/weathericon/2.0/documentation\n",
    "\n",
    "https://api.met.no/weatherapi/locationforecast/2.0/documentation#/\n",
    "https://api.met.no/doc/locationforecast/datamodel\n",
    "\n"
   ]
  }
 ],
 "metadata": {
  "kernelspec": {
   "display_name": "Python 3",
   "language": "python",
   "name": "python3"
  },
  "language_info": {
   "codemirror_mode": {
    "name": "ipython",
    "version": 3
   },
   "file_extension": ".py",
   "mimetype": "text/x-python",
   "name": "python",
   "nbconvert_exporter": "python",
   "pygments_lexer": "ipython3",
   "version": "3.5.3"
  }
 },
 "nbformat": 4,
 "nbformat_minor": 4
}
